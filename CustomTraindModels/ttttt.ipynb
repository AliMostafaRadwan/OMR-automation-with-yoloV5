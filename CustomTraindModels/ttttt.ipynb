{
 "cells": [
  {
   "cell_type": "code",
   "execution_count": 25,
   "metadata": {},
   "outputs": [],
   "source": [
    "from tabula import read_pdf\n",
    "import pandas as pd\n",
    "import seaborn as sns\n",
    "import matplotlib.pyplot as plt\n"
   ]
  },
  {
   "cell_type": "code",
   "execution_count": 26,
   "metadata": {},
   "outputs": [],
   "source": [
    "pdf_path = 'followup.pdf'"
   ]
  },
  {
   "cell_type": "code",
   "execution_count": 27,
   "metadata": {},
   "outputs": [
    {
     "data": {
      "text/html": [
       "<div>\n",
       "<style scoped>\n",
       "    .dataframe tbody tr th:only-of-type {\n",
       "        vertical-align: middle;\n",
       "    }\n",
       "\n",
       "    .dataframe tbody tr th {\n",
       "        vertical-align: top;\n",
       "    }\n",
       "\n",
       "    .dataframe thead th {\n",
       "        text-align: right;\n",
       "    }\n",
       "</style>\n",
       "<table border=\"1\" class=\"dataframe\">\n",
       "  <thead>\n",
       "    <tr style=\"text-align: right;\">\n",
       "      <th></th>\n",
       "      <th>0</th>\n",
       "      <th>1</th>\n",
       "      <th>2</th>\n",
       "      <th>3</th>\n",
       "      <th>4</th>\n",
       "      <th>5</th>\n",
       "      <th>6</th>\n",
       "    </tr>\n",
       "  </thead>\n",
       "  <tbody>\n",
       "    <tr>\n",
       "      <th>0</th>\n",
       "      <td>م</td>\n",
       "      <td>الكود</td>\n",
       "      <td>الاسم</td>\n",
       "      <td>Quiz 1\\r7.5</td>\n",
       "      <td>Quiz 2\\r7.5</td>\n",
       "      <td>Ass. 1\\r5</td>\n",
       "      <td>total 1\\r20</td>\n",
       "    </tr>\n",
       "    <tr>\n",
       "      <th>1</th>\n",
       "      <td>1</td>\n",
       "      <td>2022101</td>\n",
       "      <td>أحمد أيمن مسعود امبارك</td>\n",
       "      <td>NaN</td>\n",
       "      <td>NaN</td>\n",
       "      <td>NaN</td>\n",
       "      <td>NaN</td>\n",
       "    </tr>\n",
       "    <tr>\n",
       "      <th>2</th>\n",
       "      <td>2</td>\n",
       "      <td>2022040</td>\n",
       "      <td>أحمد عبدالرحمن عبدالرحمن أحمد مصطفى</td>\n",
       "      <td>3.5</td>\n",
       "      <td>NaN</td>\n",
       "      <td>NaN</td>\n",
       "      <td>NaN</td>\n",
       "    </tr>\n",
       "    <tr>\n",
       "      <th>3</th>\n",
       "      <td>3</td>\n",
       "      <td>2022022</td>\n",
       "      <td>أحمد عبدالناصر السيد عبدالناصر عبدالله</td>\n",
       "      <td>1.5</td>\n",
       "      <td>NaN</td>\n",
       "      <td>NaN</td>\n",
       "      <td>NaN</td>\n",
       "    </tr>\n",
       "    <tr>\n",
       "      <th>4</th>\n",
       "      <td>4</td>\n",
       "      <td>2022134</td>\n",
       "      <td>أحمد محمد رمضان محمد أحمد</td>\n",
       "      <td>4</td>\n",
       "      <td>NaN</td>\n",
       "      <td>NaN</td>\n",
       "      <td>NaN</td>\n",
       "    </tr>\n",
       "    <tr>\n",
       "      <th>5</th>\n",
       "      <td>5</td>\n",
       "      <td>2022035</td>\n",
       "      <td>أحمد مشير عثمان عبدالرحمن جزر</td>\n",
       "      <td>4</td>\n",
       "      <td>NaN</td>\n",
       "      <td>NaN</td>\n",
       "      <td>NaN</td>\n",
       "    </tr>\n",
       "    <tr>\n",
       "      <th>6</th>\n",
       "      <td>6</td>\n",
       "      <td>2022050</td>\n",
       "      <td>أحمد وليد رفعت يس شاهين</td>\n",
       "      <td>1</td>\n",
       "      <td>NaN</td>\n",
       "      <td>NaN</td>\n",
       "      <td>NaN</td>\n",
       "    </tr>\n",
       "    <tr>\n",
       "      <th>7</th>\n",
       "      <td>7</td>\n",
       "      <td>2022106</td>\n",
       "      <td>أدهم عمر عزيز عمر موسى</td>\n",
       "      <td>4</td>\n",
       "      <td>NaN</td>\n",
       "      <td>NaN</td>\n",
       "      <td>NaN</td>\n",
       "    </tr>\n",
       "    <tr>\n",
       "      <th>8</th>\n",
       "      <td>8</td>\n",
       "      <td>2022003</td>\n",
       "      <td>ابراهيم السيد ابراهيم محمود ابراهيم</td>\n",
       "      <td>4.5</td>\n",
       "      <td>NaN</td>\n",
       "      <td>NaN</td>\n",
       "      <td>NaN</td>\n",
       "    </tr>\n",
       "    <tr>\n",
       "      <th>9</th>\n",
       "      <td>9</td>\n",
       "      <td>2022005</td>\n",
       "      <td>ابراهيم امجد منصور فرحات حسن</td>\n",
       "      <td>7.5</td>\n",
       "      <td>NaN</td>\n",
       "      <td>NaN</td>\n",
       "      <td>NaN</td>\n",
       "    </tr>\n",
       "  </tbody>\n",
       "</table>\n",
       "</div>"
      ],
      "text/plain": [
       "   0        1                                       2            3  \\\n",
       "0  م    الكود                                   الاسم  Quiz 1\\r7.5   \n",
       "1  1  2022101                  أحمد أيمن مسعود امبارك          NaN   \n",
       "2  2  2022040     أحمد عبدالرحمن عبدالرحمن أحمد مصطفى          3.5   \n",
       "3  3  2022022  أحمد عبدالناصر السيد عبدالناصر عبدالله          1.5   \n",
       "4  4  2022134               أحمد محمد رمضان محمد أحمد            4   \n",
       "5  5  2022035           أحمد مشير عثمان عبدالرحمن جزر            4   \n",
       "6  6  2022050                 أحمد وليد رفعت يس شاهين            1   \n",
       "7  7  2022106                  أدهم عمر عزيز عمر موسى            4   \n",
       "8  8  2022003     ابراهيم السيد ابراهيم محمود ابراهيم          4.5   \n",
       "9  9  2022005            ابراهيم امجد منصور فرحات حسن          7.5   \n",
       "\n",
       "             4          5            6  \n",
       "0  Quiz 2\\r7.5  Ass. 1\\r5  total 1\\r20  \n",
       "1          NaN        NaN          NaN  \n",
       "2          NaN        NaN          NaN  \n",
       "3          NaN        NaN          NaN  \n",
       "4          NaN        NaN          NaN  \n",
       "5          NaN        NaN          NaN  \n",
       "6          NaN        NaN          NaN  \n",
       "7          NaN        NaN          NaN  \n",
       "8          NaN        NaN          NaN  \n",
       "9          NaN        NaN          NaN  "
      ]
     },
     "execution_count": 27,
     "metadata": {},
     "output_type": "execute_result"
    }
   ],
   "source": [
    "df = read_pdf(pdf_path, pages='all', multiple_tables=True, pandas_options={'header': None})\n",
    "df = pd.concat(df, ignore_index=True)\n",
    "df.head(10)"
   ]
  },
  {
   "cell_type": "code",
   "execution_count": 28,
   "metadata": {},
   "outputs": [
    {
     "data": {
      "text/plain": [
       "[0, 1, 2, 3, 4, 5, 6]"
      ]
     },
     "execution_count": 28,
     "metadata": {},
     "output_type": "execute_result"
    }
   ],
   "source": [
    "list(df.columns.values)"
   ]
  },
  {
   "cell_type": "code",
   "execution_count": 29,
   "metadata": {},
   "outputs": [
    {
     "data": {
      "text/html": [
       "<div>\n",
       "<style scoped>\n",
       "    .dataframe tbody tr th:only-of-type {\n",
       "        vertical-align: middle;\n",
       "    }\n",
       "\n",
       "    .dataframe tbody tr th {\n",
       "        vertical-align: top;\n",
       "    }\n",
       "\n",
       "    .dataframe thead th {\n",
       "        text-align: right;\n",
       "    }\n",
       "</style>\n",
       "<table border=\"1\" class=\"dataframe\">\n",
       "  <thead>\n",
       "    <tr style=\"text-align: right;\">\n",
       "      <th></th>\n",
       "      <th>0</th>\n",
       "      <th>1</th>\n",
       "      <th>2</th>\n",
       "      <th>3</th>\n",
       "    </tr>\n",
       "  </thead>\n",
       "  <tbody>\n",
       "    <tr>\n",
       "      <th>0</th>\n",
       "      <td>م</td>\n",
       "      <td>الكود</td>\n",
       "      <td>الاسم</td>\n",
       "      <td>Quiz 1\\r7.5</td>\n",
       "    </tr>\n",
       "    <tr>\n",
       "      <th>1</th>\n",
       "      <td>1</td>\n",
       "      <td>2022101</td>\n",
       "      <td>أحمد أيمن مسعود امبارك</td>\n",
       "      <td>NaN</td>\n",
       "    </tr>\n",
       "    <tr>\n",
       "      <th>2</th>\n",
       "      <td>2</td>\n",
       "      <td>2022040</td>\n",
       "      <td>أحمد عبدالرحمن عبدالرحمن أحمد مصطفى</td>\n",
       "      <td>3.5</td>\n",
       "    </tr>\n",
       "    <tr>\n",
       "      <th>3</th>\n",
       "      <td>3</td>\n",
       "      <td>2022022</td>\n",
       "      <td>أحمد عبدالناصر السيد عبدالناصر عبدالله</td>\n",
       "      <td>1.5</td>\n",
       "    </tr>\n",
       "    <tr>\n",
       "      <th>4</th>\n",
       "      <td>4</td>\n",
       "      <td>2022134</td>\n",
       "      <td>أحمد محمد رمضان محمد أحمد</td>\n",
       "      <td>4</td>\n",
       "    </tr>\n",
       "    <tr>\n",
       "      <th>...</th>\n",
       "      <td>...</td>\n",
       "      <td>...</td>\n",
       "      <td>...</td>\n",
       "      <td>...</td>\n",
       "    </tr>\n",
       "    <tr>\n",
       "      <th>156</th>\n",
       "      <td>156.0</td>\n",
       "      <td>2022093</td>\n",
       "      <td>يوسف مصطفى احمد السيد جوده</td>\n",
       "      <td>0.0</td>\n",
       "    </tr>\n",
       "    <tr>\n",
       "      <th>157</th>\n",
       "      <td>157.0</td>\n",
       "      <td>2022031</td>\n",
       "      <td>يوسف ناصر ابراهيم</td>\n",
       "      <td>6.5</td>\n",
       "    </tr>\n",
       "    <tr>\n",
       "      <th>158</th>\n",
       "      <td>158.0</td>\n",
       "      <td>2022020</td>\n",
       "      <td>محمد اشرف محمد الطوخي</td>\n",
       "      <td>2.0</td>\n",
       "    </tr>\n",
       "    <tr>\n",
       "      <th>159</th>\n",
       "      <td>158.0</td>\n",
       "      <td>2022033</td>\n",
       "      <td>يوسف ناصر ابراهيم الدسوقى عبداللطيف زيدان</td>\n",
       "      <td>NaN</td>\n",
       "    </tr>\n",
       "    <tr>\n",
       "      <th>160</th>\n",
       "      <td>NaN</td>\n",
       "      <td>2021107</td>\n",
       "      <td>محمد شكرى محمد</td>\n",
       "      <td>0.5</td>\n",
       "    </tr>\n",
       "  </tbody>\n",
       "</table>\n",
       "<p>161 rows × 4 columns</p>\n",
       "</div>"
      ],
      "text/plain": [
       "         0        1                                          2            3\n",
       "0        م    الكود                                      الاسم  Quiz 1\\r7.5\n",
       "1        1  2022101                     أحمد أيمن مسعود امبارك          NaN\n",
       "2        2  2022040        أحمد عبدالرحمن عبدالرحمن أحمد مصطفى          3.5\n",
       "3        3  2022022     أحمد عبدالناصر السيد عبدالناصر عبدالله          1.5\n",
       "4        4  2022134                  أحمد محمد رمضان محمد أحمد            4\n",
       "..     ...      ...                                        ...          ...\n",
       "156  156.0  2022093                 يوسف مصطفى احمد السيد جوده          0.0\n",
       "157  157.0  2022031                          يوسف ناصر ابراهيم          6.5\n",
       "158  158.0  2022020                      محمد اشرف محمد الطوخي          2.0\n",
       "159  158.0  2022033  يوسف ناصر ابراهيم الدسوقى عبداللطيف زيدان          NaN\n",
       "160    NaN  2021107                             محمد شكرى محمد          0.5\n",
       "\n",
       "[161 rows x 4 columns]"
      ]
     },
     "execution_count": 29,
     "metadata": {},
     "output_type": "execute_result"
    }
   ],
   "source": [
    "df.drop(4, axis=1, inplace=True)\n",
    "df.drop(5, axis=1, inplace=True)\n",
    "df.drop(6, axis=1, inplace=True)\n",
    "\n",
    "df"
   ]
  },
  {
   "cell_type": "code",
   "execution_count": 30,
   "metadata": {},
   "outputs": [],
   "source": [
    "#rename columns\n",
    "df.columns = ['num','id','name','grade']\n"
   ]
  },
  {
   "cell_type": "code",
   "execution_count": 31,
   "metadata": {},
   "outputs": [
    {
     "name": "stdout",
     "output_type": "stream",
     "text": [
      "<class 'pandas.core.frame.DataFrame'>\n",
      "RangeIndex: 161 entries, 0 to 160\n",
      "Data columns (total 4 columns):\n",
      " #   Column  Non-Null Count  Dtype \n",
      "---  ------  --------------  ----- \n",
      " 0   num     160 non-null    object\n",
      " 1   id      161 non-null    object\n",
      " 2   name    161 non-null    object\n",
      " 3   grade   132 non-null    object\n",
      "dtypes: object(4)\n",
      "memory usage: 5.2+ KB\n"
     ]
    }
   ],
   "source": [
    "df.info()"
   ]
  },
  {
   "cell_type": "code",
   "execution_count": 32,
   "metadata": {},
   "outputs": [
    {
     "data": {
      "text/html": [
       "<div>\n",
       "<style scoped>\n",
       "    .dataframe tbody tr th:only-of-type {\n",
       "        vertical-align: middle;\n",
       "    }\n",
       "\n",
       "    .dataframe tbody tr th {\n",
       "        vertical-align: top;\n",
       "    }\n",
       "\n",
       "    .dataframe thead th {\n",
       "        text-align: right;\n",
       "    }\n",
       "</style>\n",
       "<table border=\"1\" class=\"dataframe\">\n",
       "  <thead>\n",
       "    <tr style=\"text-align: right;\">\n",
       "      <th></th>\n",
       "      <th>num</th>\n",
       "      <th>id</th>\n",
       "      <th>name</th>\n",
       "      <th>grade</th>\n",
       "    </tr>\n",
       "  </thead>\n",
       "  <tbody>\n",
       "    <tr>\n",
       "      <th>0</th>\n",
       "      <td>م</td>\n",
       "      <td>الكود</td>\n",
       "      <td>الاسم</td>\n",
       "      <td>Quiz 1\\r7.5</td>\n",
       "    </tr>\n",
       "    <tr>\n",
       "      <th>1</th>\n",
       "      <td>1</td>\n",
       "      <td>2022101</td>\n",
       "      <td>أحمد أيمن مسعود امبارك</td>\n",
       "      <td>NaN</td>\n",
       "    </tr>\n",
       "    <tr>\n",
       "      <th>2</th>\n",
       "      <td>2</td>\n",
       "      <td>2022040</td>\n",
       "      <td>أحمد عبدالرحمن عبدالرحمن أحمد مصطفى</td>\n",
       "      <td>3.5</td>\n",
       "    </tr>\n",
       "    <tr>\n",
       "      <th>3</th>\n",
       "      <td>3</td>\n",
       "      <td>2022022</td>\n",
       "      <td>أحمد عبدالناصر السيد عبدالناصر عبدالله</td>\n",
       "      <td>1.5</td>\n",
       "    </tr>\n",
       "    <tr>\n",
       "      <th>4</th>\n",
       "      <td>4</td>\n",
       "      <td>2022134</td>\n",
       "      <td>أحمد محمد رمضان محمد أحمد</td>\n",
       "      <td>4</td>\n",
       "    </tr>\n",
       "    <tr>\n",
       "      <th>...</th>\n",
       "      <td>...</td>\n",
       "      <td>...</td>\n",
       "      <td>...</td>\n",
       "      <td>...</td>\n",
       "    </tr>\n",
       "    <tr>\n",
       "      <th>156</th>\n",
       "      <td>156.0</td>\n",
       "      <td>2022093</td>\n",
       "      <td>يوسف مصطفى احمد السيد جوده</td>\n",
       "      <td>0.0</td>\n",
       "    </tr>\n",
       "    <tr>\n",
       "      <th>157</th>\n",
       "      <td>157.0</td>\n",
       "      <td>2022031</td>\n",
       "      <td>يوسف ناصر ابراهيم</td>\n",
       "      <td>6.5</td>\n",
       "    </tr>\n",
       "    <tr>\n",
       "      <th>158</th>\n",
       "      <td>158.0</td>\n",
       "      <td>2022020</td>\n",
       "      <td>محمد اشرف محمد الطوخي</td>\n",
       "      <td>2.0</td>\n",
       "    </tr>\n",
       "    <tr>\n",
       "      <th>159</th>\n",
       "      <td>158.0</td>\n",
       "      <td>2022033</td>\n",
       "      <td>يوسف ناصر ابراهيم الدسوقى عبداللطيف زيدان</td>\n",
       "      <td>NaN</td>\n",
       "    </tr>\n",
       "    <tr>\n",
       "      <th>160</th>\n",
       "      <td>NaN</td>\n",
       "      <td>2021107</td>\n",
       "      <td>محمد شكرى محمد</td>\n",
       "      <td>0.5</td>\n",
       "    </tr>\n",
       "  </tbody>\n",
       "</table>\n",
       "<p>161 rows × 4 columns</p>\n",
       "</div>"
      ],
      "text/plain": [
       "       num       id                                       name        grade\n",
       "0        م    الكود                                      الاسم  Quiz 1\\r7.5\n",
       "1        1  2022101                     أحمد أيمن مسعود امبارك          NaN\n",
       "2        2  2022040        أحمد عبدالرحمن عبدالرحمن أحمد مصطفى          3.5\n",
       "3        3  2022022     أحمد عبدالناصر السيد عبدالناصر عبدالله          1.5\n",
       "4        4  2022134                  أحمد محمد رمضان محمد أحمد            4\n",
       "..     ...      ...                                        ...          ...\n",
       "156  156.0  2022093                 يوسف مصطفى احمد السيد جوده          0.0\n",
       "157  157.0  2022031                          يوسف ناصر ابراهيم          6.5\n",
       "158  158.0  2022020                      محمد اشرف محمد الطوخي          2.0\n",
       "159  158.0  2022033  يوسف ناصر ابراهيم الدسوقى عبداللطيف زيدان          NaN\n",
       "160    NaN  2021107                             محمد شكرى محمد          0.5\n",
       "\n",
       "[161 rows x 4 columns]"
      ]
     },
     "execution_count": 32,
     "metadata": {},
     "output_type": "execute_result"
    }
   ],
   "source": [
    "df"
   ]
  },
  {
   "cell_type": "code",
   "execution_count": 34,
   "metadata": {},
   "outputs": [
    {
     "data": {
      "text/html": [
       "<div>\n",
       "<style scoped>\n",
       "    .dataframe tbody tr th:only-of-type {\n",
       "        vertical-align: middle;\n",
       "    }\n",
       "\n",
       "    .dataframe tbody tr th {\n",
       "        vertical-align: top;\n",
       "    }\n",
       "\n",
       "    .dataframe thead th {\n",
       "        text-align: right;\n",
       "    }\n",
       "</style>\n",
       "<table border=\"1\" class=\"dataframe\">\n",
       "  <thead>\n",
       "    <tr style=\"text-align: right;\">\n",
       "      <th></th>\n",
       "      <th>num</th>\n",
       "      <th>id</th>\n",
       "      <th>name</th>\n",
       "      <th>grade</th>\n",
       "    </tr>\n",
       "  </thead>\n",
       "  <tbody>\n",
       "    <tr>\n",
       "      <th>1</th>\n",
       "      <td>1</td>\n",
       "      <td>2022101</td>\n",
       "      <td>أحمد أيمن مسعود امبارك</td>\n",
       "      <td>NaN</td>\n",
       "    </tr>\n",
       "    <tr>\n",
       "      <th>2</th>\n",
       "      <td>2</td>\n",
       "      <td>2022040</td>\n",
       "      <td>أحمد عبدالرحمن عبدالرحمن أحمد مصطفى</td>\n",
       "      <td>3.5</td>\n",
       "    </tr>\n",
       "    <tr>\n",
       "      <th>3</th>\n",
       "      <td>3</td>\n",
       "      <td>2022022</td>\n",
       "      <td>أحمد عبدالناصر السيد عبدالناصر عبدالله</td>\n",
       "      <td>1.5</td>\n",
       "    </tr>\n",
       "    <tr>\n",
       "      <th>4</th>\n",
       "      <td>4</td>\n",
       "      <td>2022134</td>\n",
       "      <td>أحمد محمد رمضان محمد أحمد</td>\n",
       "      <td>4</td>\n",
       "    </tr>\n",
       "    <tr>\n",
       "      <th>5</th>\n",
       "      <td>5</td>\n",
       "      <td>2022035</td>\n",
       "      <td>أحمد مشير عثمان عبدالرحمن جزر</td>\n",
       "      <td>4</td>\n",
       "    </tr>\n",
       "    <tr>\n",
       "      <th>...</th>\n",
       "      <td>...</td>\n",
       "      <td>...</td>\n",
       "      <td>...</td>\n",
       "      <td>...</td>\n",
       "    </tr>\n",
       "    <tr>\n",
       "      <th>156</th>\n",
       "      <td>156.0</td>\n",
       "      <td>2022093</td>\n",
       "      <td>يوسف مصطفى احمد السيد جوده</td>\n",
       "      <td>0.0</td>\n",
       "    </tr>\n",
       "    <tr>\n",
       "      <th>157</th>\n",
       "      <td>157.0</td>\n",
       "      <td>2022031</td>\n",
       "      <td>يوسف ناصر ابراهيم</td>\n",
       "      <td>6.5</td>\n",
       "    </tr>\n",
       "    <tr>\n",
       "      <th>158</th>\n",
       "      <td>158.0</td>\n",
       "      <td>2022020</td>\n",
       "      <td>محمد اشرف محمد الطوخي</td>\n",
       "      <td>2.0</td>\n",
       "    </tr>\n",
       "    <tr>\n",
       "      <th>159</th>\n",
       "      <td>158.0</td>\n",
       "      <td>2022033</td>\n",
       "      <td>يوسف ناصر ابراهيم الدسوقى عبداللطيف زيدان</td>\n",
       "      <td>NaN</td>\n",
       "    </tr>\n",
       "    <tr>\n",
       "      <th>160</th>\n",
       "      <td>NaN</td>\n",
       "      <td>2021107</td>\n",
       "      <td>محمد شكرى محمد</td>\n",
       "      <td>0.5</td>\n",
       "    </tr>\n",
       "  </tbody>\n",
       "</table>\n",
       "<p>160 rows × 4 columns</p>\n",
       "</div>"
      ],
      "text/plain": [
       "       num       id                                       name grade\n",
       "1        1  2022101                     أحمد أيمن مسعود امبارك   NaN\n",
       "2        2  2022040        أحمد عبدالرحمن عبدالرحمن أحمد مصطفى   3.5\n",
       "3        3  2022022     أحمد عبدالناصر السيد عبدالناصر عبدالله   1.5\n",
       "4        4  2022134                  أحمد محمد رمضان محمد أحمد     4\n",
       "5        5  2022035              أحمد مشير عثمان عبدالرحمن جزر     4\n",
       "..     ...      ...                                        ...   ...\n",
       "156  156.0  2022093                 يوسف مصطفى احمد السيد جوده   0.0\n",
       "157  157.0  2022031                          يوسف ناصر ابراهيم   6.5\n",
       "158  158.0  2022020                      محمد اشرف محمد الطوخي   2.0\n",
       "159  158.0  2022033  يوسف ناصر ابراهيم الدسوقى عبداللطيف زيدان   NaN\n",
       "160    NaN  2021107                             محمد شكرى محمد   0.5\n",
       "\n",
       "[160 rows x 4 columns]"
      ]
     },
     "execution_count": 34,
     "metadata": {},
     "output_type": "execute_result"
    }
   ],
   "source": [
    "df.drop(0,axis=0, inplace=True)\n",
    "df"
   ]
  },
  {
   "cell_type": "code",
   "execution_count": 35,
   "metadata": {},
   "outputs": [
    {
     "data": {
      "text/plain": [
       "num       object\n",
       "id        object\n",
       "name      object\n",
       "grade    float64\n",
       "dtype: object"
      ]
     },
     "execution_count": 35,
     "metadata": {},
     "output_type": "execute_result"
    }
   ],
   "source": [
    "df['id'] = df['id'].astype('str')\n",
    "df['grade'] = df['grade'].astype('float')\n",
    "df.dtypes"
   ]
  },
  {
   "cell_type": "code",
   "execution_count": 36,
   "metadata": {},
   "outputs": [
    {
     "data": {
      "text/plain": [
       "num                                 9\n",
       "id                            2022005\n",
       "name     ابراهيم امجد منصور فرحات حسن\n",
       "grade                             7.5\n",
       "Name: 9, dtype: object"
      ]
     },
     "execution_count": 36,
     "metadata": {},
     "output_type": "execute_result"
    }
   ],
   "source": [
    "df.loc[df['grade'].idxmax()]"
   ]
  },
  {
   "cell_type": "code",
   "execution_count": 37,
   "metadata": {},
   "outputs": [
    {
     "data": {
      "text/plain": [
       "num                              29\n",
       "id                          2022002\n",
       "name     انور محمد محمود رضوان صيوح\n",
       "grade                           0.0\n",
       "Name: 29, dtype: object"
      ]
     },
     "execution_count": 37,
     "metadata": {},
     "output_type": "execute_result"
    }
   ],
   "source": [
    "df.loc[df['grade'].idxmin()]"
   ]
  },
  {
   "cell_type": "code",
   "execution_count": 38,
   "metadata": {},
   "outputs": [
    {
     "data": {
      "text/html": [
       "<div>\n",
       "<style scoped>\n",
       "    .dataframe tbody tr th:only-of-type {\n",
       "        vertical-align: middle;\n",
       "    }\n",
       "\n",
       "    .dataframe tbody tr th {\n",
       "        vertical-align: top;\n",
       "    }\n",
       "\n",
       "    .dataframe thead th {\n",
       "        text-align: right;\n",
       "    }\n",
       "</style>\n",
       "<table border=\"1\" class=\"dataframe\">\n",
       "  <thead>\n",
       "    <tr style=\"text-align: right;\">\n",
       "      <th></th>\n",
       "      <th>num</th>\n",
       "      <th>id</th>\n",
       "      <th>name</th>\n",
       "      <th>grade</th>\n",
       "    </tr>\n",
       "  </thead>\n",
       "  <tbody>\n",
       "    <tr>\n",
       "      <th>9</th>\n",
       "      <td>9</td>\n",
       "      <td>2022005</td>\n",
       "      <td>ابراهيم امجد منصور فرحات حسن</td>\n",
       "      <td>7.5</td>\n",
       "    </tr>\n",
       "  </tbody>\n",
       "</table>\n",
       "</div>"
      ],
      "text/plain": [
       "  num       id                          name  grade\n",
       "9   9  2022005  ابراهيم امجد منصور فرحات حسن    7.5"
      ]
     },
     "execution_count": 38,
     "metadata": {},
     "output_type": "execute_result"
    }
   ],
   "source": [
    "df[df['grade'] == 7.5]"
   ]
  },
  {
   "cell_type": "code",
   "execution_count": 39,
   "metadata": {},
   "outputs": [
    {
     "data": {
      "text/plain": [
       "<AxesSubplot: xlabel='id', ylabel='grade'>"
      ]
     },
     "execution_count": 39,
     "metadata": {},
     "output_type": "execute_result"
    },
    {
     "data": {
      "image/png": "[encoded data removed]",
      "text/plain": [
       "<Figure size 640x480 with 1 Axes>"
      ]
     },
     "metadata": {},
     "output_type": "display_data"
    }
   ],
   "source": [
    "sns.scatterplot(x='id', y='grade', data=df)"
   ]
  }
 ],
 "metadata": {
  "kernelspec": {
   "display_name": "Python 3.10.8 64-bit",
   "language": "python",
   "name": "python3"
  },
  "language_info": {
   "codemirror_mode": {
    "name": "ipython",
    "version": 3
   },
   "file_extension": ".py",
   "mimetype": "text/x-python",
   "name": "python",
   "nbconvert_exporter": "python",
   "pygments_lexer": "ipython3",
   "version": "3.10.8"
  },
  "orig_nbformat": 4,
  "vscode": {
   "interpreter": {
    "hash": "27923e36a66ab94b0f82c571a235811eab9119ab3260fa5ac7bd931b29565447"
   }
  }
 },
 "nbformat": 4,
 "nbformat_minor": 2
}
